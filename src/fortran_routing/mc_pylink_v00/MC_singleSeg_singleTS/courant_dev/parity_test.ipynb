{
 "cells": [
  {
   "cell_type": "code",
   "execution_count": 1,
   "metadata": {},
   "outputs": [],
   "source": [
    "import sys\n",
    "import os\n",
    "import subprocess\n",
    "\n",
    "try:\n",
    "    import google.colab\n",
    "\n",
    "    ENV_IS_CL = True\n",
    "    root = r\"/content/t-route\"\n",
    "    subprocess.run([\"git\", \n",
    "                    \"clone\", \n",
    "                    \"-b\",\n",
    "                    \"courant\",\n",
    "                    \"https://github.com/awlostowski-noaa/t-route.git\"])\n",
    "    \n",
    "    \n",
    "except:\n",
    "    root = os.path.dirname(os.path.abspath(\"../../../../\"))\n",
    "    \n",
    "dev_directory = os.path.join(root,\"src\",\"fortran_routing\",\"mc_pylink_v00\",\"MC_singleSeg_singleTS\",\"courant_dev\")\n",
    "sys.path.append(dev_directory)\n",
    "\n",
    "base_directory = os.path.join(root,\"src\",\"fortran_routing\",\"mc_pylink_v00\",\"MC_singleSeg_singleTS\")\n",
    "sys.path.append(base_directory)\n",
    "    "
   ]
  },
  {
   "cell_type": "code",
   "execution_count": 2,
   "metadata": {},
   "outputs": [],
   "source": [
    "# model parameters\n",
    "params = {}\n",
    "params[\"dt\"] = 60.0\n",
    "params[\"dx\"] = 1800.0\n",
    "params[\"bw\"] = 112.0\n",
    "params[\"tw\"] = 248.0\n",
    "params[\"twcc\"] = 623.60\n",
    "params[\"n\"] = 0.02800000086426735\n",
    "params[\"ncc\"] = 0.03136000037193298\n",
    "params[\"cs\"] = 0.42\n",
    "params[\"s0\"] = 0.007999999690800905\n",
    "params[\"qlat\"] = 40.0\n",
    "params[\"qup\"] = 45009.0\n",
    "params[\"quc\"] = 50098.0\n",
    "params[\"qdp\"] = 50014.0\n",
    "params[\"depthp\"] = 30.0"
   ]
  },
  {
   "cell_type": "code",
   "execution_count": 3,
   "metadata": {},
   "outputs": [],
   "source": [
    "# write model parameters to control file\n",
    "file = open(os.path.join(dev_directory,\"control.txt\"), \"w\")\n",
    "for key, value in params.items():\n",
    "    file.write(str(key) + \" \" + str(value) + \"\\n\")\n",
    "file.close()"
   ]
  },
  {
   "cell_type": "code",
   "execution_count": 5,
   "metadata": {},
   "outputs": [
    {
     "name": "stdout",
     "output_type": "stream",
     "text": [
      "Compilation process was successful, mc_test.exe exists\n"
     ]
    }
   ],
   "source": [
    "# Compile fortran modules and test program, create an executable\n",
    "# ! ./compile\n",
    "\n",
    "# copy varPrecision.f90 from base directory\n",
    "cmd = subprocess.run(\n",
    "    [\"cp\", \n",
    "     os.path.join(base_directory, \"varPrecision.f90\"), \n",
    "     os.path.join(dev_directory,  \"varPrecision.f90\")],\n",
    "    cwd=dev_directory,\n",
    "    stdout=subprocess.DEVNULL,\n",
    "    stderr=subprocess.DEVNULL\n",
    ")\n",
    "\n",
    "# compile courant modified MC module and testing program\n",
    "cmd = subprocess.run(\n",
    "    [\"gfortran\",\n",
    "     \"-c\",\n",
    "     \"varPrecision.f90\",\n",
    "     \"MCsingleSegStime_f2py_NOLOOP-anw.f90\",\n",
    "     \"test_MC_program.f90\"],\n",
    "    cwd=dev_directory,\n",
    "    stdout=subprocess.DEVNULL,\n",
    "    stderr=subprocess.DEVNULL\n",
    ")\n",
    "\n",
    "# create executable of test program\n",
    "cmd = subprocess.run(\n",
    "    [\"gfortran\",\n",
    "     \"varPrecision.o\",\n",
    "     \"MCsingleSegStime_f2py_NOLOOP-anw.o\",\n",
    "     \"test_MC_program.o\",\n",
    "     \"-o\",\n",
    "     \"mc_test.exe\"],\n",
    "    cwd=dev_directory,\n",
    "    stdout=subprocess.DEVNULL,\n",
    "    stderr=subprocess.DEVNULL\n",
    ")\n",
    "\n",
    "# check to make sure the compilation process worked\n",
    "if os.path.exists(\"mc_test.exe\") == True:\n",
    "    print(\"Compilation process was successful, mc_test.exe exists\")\n",
    "else:\n",
    "    print(\"WARNING: There was a problem with the compilatuion process, mc_test.exe does not exist!\")"
   ]
  },
  {
   "cell_type": "code",
   "execution_count": 16,
   "metadata": {},
   "outputs": [
    {
     "name": "stdout",
     "output_type": "stream",
     "text": [
      "Output from mc_test.exe:\n",
      "b' --------------------------------------------------------------\\n  \\n MC model inputs\\n  \\n dt:    60.0000000    \\n dx:    1800.00000    \\n bw:    112.000000    \\n tw:    248.000000    \\n twcc:    623.599976    \\n n:    2.80000009E-02\\n ncc:    3.13600004E-02\\n cs:   0.419999987    \\n s0:    7.99999945E-03\\n qlat:    40.0000000    \\n qup:    45009.0000    \\n quc:    50098.0000    \\n qdp:    50014.0000    \\n depthp:    30.0000000    \\n --------------------------------------------------------------\\n  \\n MC model outputs\\n  \\n flow [m^3/s] =    46502.3516    \\n velocity [m/s] =    17.7658043    \\n depth [m] =    17.2265453    \\n kinematic celerity [m/s] =    25.4746609    \\n Courant number [-] =   0.849155426    \\n'\n"
     ]
    }
   ],
   "source": [
    "# run the model\n",
    "cmd = subprocess.run(\n",
    "    [\"./mc_test.exe\"],\n",
    "    cwd=dev_directory,\n",
    "    stdout=subprocess.PIPE\n",
    ")\n",
    "print(\"Output from mc_test.exe:\")\n",
    "print(cmd.stdout)"
   ]
  },
  {
   "cell_type": "code",
   "execution_count": 7,
   "metadata": {},
   "outputs": [
    {
     "name": "stdout",
     "output_type": "stream",
     "text": [
      "f2py shared object successfully loaded\n"
     ]
    }
   ],
   "source": [
    "# os.chdir(root)\n",
    "# ! f2py3 -c varPrecision.f90 MCsingleSegStime_f2py_NOLOOP.f90 -m mc_sseg_stime\n",
    "\n",
    "cmd = subprocess.run(\n",
    "    [\"f2py3\",\n",
    "     \"-c\",\n",
    "     \"varPrecision.o\",\n",
    "     \"MCsingleSegStime_f2py_NOLOOP.o\",\n",
    "     \"-m\",\n",
    "     \"mc_sseg_stime\"],\n",
    "    cwd=base_directory,\n",
    "    stdout=subprocess.DEVNULL,\n",
    "    stderr=subprocess.DEVNULL\n",
    ")\n",
    "\n",
    "try:\n",
    "    # import MC subroutine from shared object\n",
    "    from mc_sseg_stime import muskingcunge_module\n",
    "    print(\"f2py shared object successfully loaded\")\n",
    "except:\n",
    "    print(\"WARNING: f2py shared object does not exist\")\n",
    "\n",
    "# import python function to call FORTRAN muskingcunge subroutine\n",
    "from mc_sseg_stime_NOLOOP_demo import singlesegment"
   ]
  },
  {
   "cell_type": "code",
   "execution_count": 8,
   "metadata": {},
   "outputs": [
    {
     "name": "stdout",
     "output_type": "stream",
     "text": [
      "flow [m^3/s] =  46502.3515625\n",
      "velocity [m/s] =  17.765804290771484\n",
      "depth [m] =  17.226545333862305\n"
     ]
    }
   ],
   "source": [
    "# execute the model\n",
    "qdc, velc, depthc = singlesegment(\n",
    "        dt=params[\"dt\"],\n",
    "        qup=params[\"qup\"],\n",
    "        quc=params[\"quc\"],\n",
    "        qdp=params[\"qdp\"],\n",
    "        qlat=params[\"qlat\"],\n",
    "        dx=params[\"dx\"],\n",
    "        bw=params[\"bw\"],\n",
    "        tw=params[\"tw\"],\n",
    "        twcc=params[\"twcc\"],\n",
    "        n_manning=params[\"n\"],\n",
    "        n_manning_cc=params[\"ncc\"],\n",
    "        cs=params[\"cs\"],\n",
    "        s0=params[\"s0\"],\n",
    "        velp=0,\n",
    "        depthp=params[\"depthp\"],\n",
    "    )\n",
    "\n",
    "print(\"flow [m^3/s] = \", qdc)\n",
    "print(\"velocity [m/s] = \", velc)\n",
    "print(\"depth [m] = \", depthc)"
   ]
  },
  {
   "cell_type": "code",
   "execution_count": null,
   "metadata": {},
   "outputs": [],
   "source": [
    "# calculate kinematic celerity and courant number from model parameters and output from f2py process"
   ]
  }
 ],
 "metadata": {
  "kernelspec": {
   "display_name": "Python 3",
   "language": "python",
   "name": "python3"
  },
  "language_info": {
   "codemirror_mode": {
    "name": "ipython",
    "version": 3
   },
   "file_extension": ".py",
   "mimetype": "text/x-python",
   "name": "python",
   "nbconvert_exporter": "python",
   "pygments_lexer": "ipython3",
   "version": "3.8.2"
  }
 },
 "nbformat": 4,
 "nbformat_minor": 4
}
