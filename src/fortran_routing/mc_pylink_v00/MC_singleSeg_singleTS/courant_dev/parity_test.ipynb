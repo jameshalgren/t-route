{
 "cells": [
  {
   "cell_type": "code",
   "execution_count": 40,
   "metadata": {},
   "outputs": [],
   "source": [
    "import sys\n",
    "import os\n",
    "import subprocess\n",
    "import csv\n",
    "import numpy\n",
    "\n",
    "try:\n",
    "    import google.colab\n",
    "\n",
    "    ENV_IS_CL = True\n",
    "    root = r\"/content/t-route\"\n",
    "    subprocess.run([\"git\", \n",
    "                    \"clone\", \n",
    "                    \"-b\",\n",
    "                    \"courant\",\n",
    "                    \"https://github.com/awlostowski-noaa/t-route.git\"])\n",
    "    \n",
    "    \n",
    "except:\n",
    "    root = os.path.dirname(os.path.abspath(\"../../../../\"))\n",
    "    \n",
    "dev_directory = os.path.join(root,\"src\",\"fortran_routing\",\"mc_pylink_v00\",\"MC_singleSeg_singleTS\",\"courant_dev\")\n",
    "sys.path.append(dev_directory)\n",
    "\n",
    "base_directory = os.path.join(root,\"src\",\"fortran_routing\",\"mc_pylink_v00\",\"MC_singleSeg_singleTS\")\n",
    "sys.path.append(base_directory)\n",
    "    "
   ]
  },
  {
   "cell_type": "code",
   "execution_count": 2,
   "metadata": {},
   "outputs": [],
   "source": [
    "# model parameters\n",
    "params = {}\n",
    "params[\"dt\"] = 60.0\n",
    "params[\"dx\"] = 1800.0\n",
    "params[\"bw\"] = 112.0\n",
    "params[\"tw\"] = 248.0\n",
    "params[\"twcc\"] = 623.60\n",
    "params[\"n\"] = 0.02800000086426735\n",
    "params[\"ncc\"] = 0.03136000037193298\n",
    "params[\"cs\"] = 0.42\n",
    "params[\"s0\"] = 0.007999999690800905\n",
    "params[\"qlat\"] = 40.0\n",
    "params[\"qup\"] = 45009.0\n",
    "params[\"quc\"] = 50098.0\n",
    "params[\"qdp\"] = 50014.0\n",
    "params[\"depthp\"] = 30.0"
   ]
  },
  {
   "cell_type": "code",
   "execution_count": 3,
   "metadata": {},
   "outputs": [],
   "source": [
    "# write model parameters to control file\n",
    "file = open(os.path.join(dev_directory,\"control.txt\"), \"w\")\n",
    "for key, value in params.items():\n",
    "    file.write(str(key) + \" \" + str(value) + \"\\n\")\n",
    "file.close()"
   ]
  },
  {
   "cell_type": "code",
   "execution_count": 5,
   "metadata": {},
   "outputs": [
    {
     "name": "stdout",
     "output_type": "stream",
     "text": [
      "Compilation process was successful, mc_test.exe exists\n"
     ]
    }
   ],
   "source": [
    "# Compile fortran modules and test program, create an executable\n",
    "# ! ./compile\n",
    "\n",
    "# copy varPrecision.f90 from base directory\n",
    "cmd = subprocess.run(\n",
    "    [\"cp\", \n",
    "     os.path.join(base_directory, \"varPrecision.f90\"), \n",
    "     os.path.join(dev_directory,  \"varPrecision.f90\")],\n",
    "    cwd=dev_directory,\n",
    "    stdout=subprocess.DEVNULL,\n",
    "    stderr=subprocess.DEVNULL\n",
    ")\n",
    "\n",
    "# compile courant modified MC module and testing program\n",
    "cmd = subprocess.run(\n",
    "    [\"gfortran\",\n",
    "     \"-c\",\n",
    "     \"varPrecision.f90\",\n",
    "     \"MCsingleSegStime_f2py_NOLOOP-anw.f90\",\n",
    "     \"test_MC_program.f90\"],\n",
    "    cwd=dev_directory,\n",
    "    stdout=subprocess.DEVNULL,\n",
    "    stderr=subprocess.DEVNULL\n",
    ")\n",
    "\n",
    "# create executable of test program\n",
    "cmd = subprocess.run(\n",
    "    [\"gfortran\",\n",
    "     \"varPrecision.o\",\n",
    "     \"MCsingleSegStime_f2py_NOLOOP-anw.o\",\n",
    "     \"test_MC_program.o\",\n",
    "     \"-o\",\n",
    "     \"mc_test.exe\"],\n",
    "    cwd=dev_directory,\n",
    "    stdout=subprocess.DEVNULL,\n",
    "    stderr=subprocess.DEVNULL\n",
    ")"
   ]
  },
  {
   "cell_type": "code",
   "execution_count": 57,
   "metadata": {},
   "outputs": [],
   "source": [
    "# run the model\n",
    "cmd = subprocess.run(\n",
    "    [\"./mc_test.exe\"],\n",
    "    cwd=dev_directory,\n",
    "    stdout=subprocess.PIPE\n",
    ")\n",
    "\n",
    "try:\n",
    "    # read model output\n",
    "    dev_result = {}\n",
    "    with open(os.path.join(dev_directory,'output.txt'), newline='') as file:\n",
    "             datreader = csv.reader(file, delimiter=' ')\n",
    "             for row in datreader:\n",
    "                    var = row[0]\n",
    "                    val = float(row[len(row)-1])\n",
    "                    dev_result[var] = val\n",
    "                    \n",
    "except:\n",
    "    print(\"ERROR: couldn't find output.txt - perhaps the compile process did not work. Check to see if mc_test.exe exists.\")"
   ]
  },
  {
   "cell_type": "code",
   "execution_count": 64,
   "metadata": {},
   "outputs": [
    {
     "name": "stdout",
     "output_type": "stream",
     "text": [
      "f2py shared object successfully loaded\n"
     ]
    }
   ],
   "source": [
    "# os.chdir(root)\n",
    "# ! f2py3 -c varPrecision.f90 MCsingleSegStime_f2py_NOLOOP.f90 -m mc_sseg_stime\n",
    "\n",
    "f2py_call = []\n",
    "f2py_call.append(r\"f2py3\")\n",
    "f2py_call.append(r\"-c\")\n",
    "f2py_call.append(r\"varPrecision.f90\")\n",
    "f2py_call.append(r\"MCsingleSegStime_f2py_NOLOOP.f90\")\n",
    "f2py_call.append(r\"-m\")\n",
    "f2py_call.append(r\"mc_sseg_stime\")\n",
    "\n",
    "subprocess.run(\n",
    "    f2py_call,\n",
    "    cwd=base_directory,\n",
    "    stdout=subprocess.DEVNULL,\n",
    "    stderr=subprocess.DEVNULL,\n",
    ")\n",
    "\n",
    "try:\n",
    "    # import MC subroutine from shared object\n",
    "    from mc_sseg_stime import muskingcunge_module\n",
    "\n",
    "except:\n",
    "    print(\"ERROR: Couldn't find mc_sseg_stime shared object. There may be a problem with the f2py compile process.\")\n",
    "\n",
    "# import python function to call FORTRAN muskingcunge subroutine\n",
    "from mc_sseg_stime_NOLOOP_demo import singlesegment"
   ]
  },
  {
   "cell_type": "code",
   "execution_count": 42,
   "metadata": {},
   "outputs": [],
   "source": [
    "# execute the model\n",
    "qdc, velc, depthc = singlesegment(\n",
    "        dt=params[\"dt\"],\n",
    "        qup=params[\"qup\"],\n",
    "        quc=params[\"quc\"],\n",
    "        qdp=params[\"qdp\"],\n",
    "        qlat=params[\"qlat\"],\n",
    "        dx=params[\"dx\"],\n",
    "        bw=params[\"bw\"],\n",
    "        tw=params[\"tw\"],\n",
    "        twcc=params[\"twcc\"],\n",
    "        n_manning=params[\"n\"],\n",
    "        n_manning_cc=params[\"ncc\"],\n",
    "        cs=params[\"cs\"],\n",
    "        s0=params[\"s0\"],\n",
    "        velp=0,\n",
    "        depthp=params[\"depthp\"],\n",
    "    )\n",
    "\n",
    "base_result = {}\n",
    "base_result[\"qdc\"] = qdc\n",
    "base_result[\"velc\"] = velc\n",
    "base_result[\"depthc\"] = depthc"
   ]
  },
  {
   "cell_type": "code",
   "execution_count": 55,
   "metadata": {},
   "outputs": [],
   "source": [
    "# calculate kinematic celerity and courant number from model parameters and output from f2py process\n",
    "def courant(depthc, cs, tw, bw, twcc, s0, n, ncc, dt, dx):\n",
    "    \n",
    "    # channel side distance\n",
    "    z = 1.0/cs\n",
    "\n",
    "    # bankfull depth (assumes tw > bw)\n",
    "    bfd =  (tw - bw)/(2*z)\n",
    "    \n",
    "    if depthc > bfd:\n",
    "\n",
    "        # ******* when depth is above bank full *******\n",
    "        h = depthc\n",
    "\n",
    "        AREA =  (bw + bfd * z) * bfd\n",
    "        AREAC = (twcc * (h - bfd)) \n",
    "        WP = (bw + 2 * bfd * np.sqrt(1 + z*z))\n",
    "        WPC = twcc + (2 * (h - bfd))\n",
    "        R   = (AREA + AREAC)/(WP + WPC)\n",
    "\n",
    "        ck =  ((np.sqrt(s0)/n)*((5/3)*R**(2/3) - \\\n",
    "                    ((2/3)*R**(5/3)*(2*np.sqrt(1 + z*z)/(bw+2*bfd*z))))*AREA \\\n",
    "                    + ((np.sqrt(s0)/(ncc))*(5/3)*(h - bfd)**(2/3))*AREAC)/(AREA+AREAC)\n",
    "        \n",
    "    else:\n",
    "\n",
    "        # ******* when depth is below bank full ********\n",
    "        h = depthc\n",
    "        \n",
    "        AREA = (bw + h * z ) * h\n",
    "        WP = (bw + 2 * h * np.sqrt(1 + z*z))\n",
    "        R = AREA / WP\n",
    "\n",
    "        ck = (np.sqrt(s0)/n)* \\\n",
    "                        ((5/3)*R**(2/3)-((2/3)*R**(5/3)* \\\n",
    "                         (2*np.sqrt(1 + z*z)/(bw+2*h*z))))\n",
    "\n",
    "\n",
    "    # Courant number\n",
    "    cn = ck * (dt/dx)\n",
    "    \n",
    "    return ck, cn\n",
    "\n",
    "base_result[\"ck\"], base_result[\"cn\"] = courant(base_result[\"depthc\"],\n",
    "                                                params[\"cs\"],\n",
    "                                                params[\"tw\"],\n",
    "                                                params[\"bw\"],\n",
    "                                                params[\"twcc\"],\n",
    "                                                params[\"s0\"],\n",
    "                                                params[\"n\"],\n",
    "                                                params[\"ncc\"],\n",
    "                                                params[\"dt\"],\n",
    "                                                params[\"dx\"])"
   ]
  },
  {
   "cell_type": "code",
   "execution_count": 56,
   "metadata": {},
   "outputs": [
    {
     "name": "stdout",
     "output_type": "stream",
     "text": [
      "Percent difference between base and development MC module results\n",
      "-----------------------------------------------------------------\n",
      "qdc: 0.0%\n",
      "velc: 4.342533406196506e-11%\n",
      "depthc: 2.2420654747335692e-10%\n",
      "ck: -7.386683799560635e-08%\n",
      "cn: -1.53553871308438e-07%\n"
     ]
    }
   ],
   "source": [
    "print(\"Percent difference between base and development MC module results\")\n",
    "print(\"-----------------------------------------------------------------\")\n",
    "for key in base_result.keys():\n",
    "    pct_diff = (base_result[key] - dev_result[key])/base_result[key]\n",
    "    print(key + \": \" + str(pct_diff) + \"%\")"
   ]
  },
  {
   "cell_type": "code",
   "execution_count": null,
   "metadata": {},
   "outputs": [],
   "source": []
  }
 ],
 "metadata": {
  "kernelspec": {
   "display_name": "Python 3",
   "language": "python",
   "name": "python3"
  },
  "language_info": {
   "codemirror_mode": {
    "name": "ipython",
    "version": 3
   },
   "file_extension": ".py",
   "mimetype": "text/x-python",
   "name": "python",
   "nbconvert_exporter": "python",
   "pygments_lexer": "ipython3",
   "version": "3.8.2"
  }
 },
 "nbformat": 4,
 "nbformat_minor": 4
}
