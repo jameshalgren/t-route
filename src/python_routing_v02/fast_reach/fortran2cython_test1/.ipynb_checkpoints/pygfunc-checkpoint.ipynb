{
 "cells": [
  {
   "cell_type": "code",
   "execution_count": 1,
   "metadata": {},
   "outputs": [
    {
     "name": "stdout",
     "output_type": "stream",
     "text": [
      "[[0.27067057 0.65838598 0.65838598 0.27067057]\n",
      " [0.65838598 1.60147481 1.60147481 0.65838598]\n",
      " [0.65838598 1.60147481 1.60147481 0.65838598]\n",
      " [0.27067057 0.65838598 0.65838598 0.27067057]]\n"
     ]
    }
   ],
   "source": [
    "from pygfunc import f2cytest\n",
    "print(f2cytest(1., a=-1.,b=1., n=4))"
   ]
  },
  {
   "cell_type": "code",
   "execution_count": 2,
   "metadata": {},
   "outputs": [
    {
     "name": "stdout",
     "output_type": "stream",
     "text": [
      "[[0.13533528 0.32919299 0.32919299 0.13533528]\n",
      " [0.32919299 0.8007374  0.8007374  0.32919299]\n",
      " [0.32919299 0.8007374  0.8007374  0.32919299]\n",
      " [0.13533528 0.32919299 0.32919299 0.13533528]]\n"
     ]
    }
   ],
   "source": [
    "import numpy as np\n",
    "a = np.linspace(-1, 1, 4)**2\n",
    "A, B = np.meshgrid(a, a, copy=False)\n",
    "print(np.exp(-(A + B)))"
   ]
  },
  {
   "cell_type": "code",
   "execution_count": null,
   "metadata": {},
   "outputs": [],
   "source": [
    "print(2.0*np.exp(-(A + B)))"
   ]
  },
  {
   "cell_type": "code",
   "execution_count": null,
   "metadata": {},
   "outputs": [],
   "source": [
    "print(f2cytest(1., a=-1.,b=1., n=4))"
   ]
  },
  {
   "cell_type": "code",
   "execution_count": 3,
   "metadata": {},
   "outputs": [
    {
     "name": "stdout",
     "output_type": "stream",
     "text": [
      "0.22953462600708008\n"
     ]
    }
   ],
   "source": [
    "import time\n",
    "\n",
    "start = time.time()\n",
    "for i in range(8000):\n",
    "    f2cytest(1., a=-1.,b=1., n=4)\n",
    "    \n",
    "end = time.time()\n",
    "print(end - start)"
   ]
  },
  {
   "cell_type": "code",
   "execution_count": 7,
   "metadata": {},
   "outputs": [
    {
     "name": "stdout",
     "output_type": "stream",
     "text": [
      "0.0365908145904541\n"
     ]
    }
   ],
   "source": [
    "import time\n",
    "from joblib import delayed, Parallel\n",
    "cpu_pool=5\n",
    "start = time.time()\n",
    "with Parallel(n_jobs=cpu_pool, prefer='threads') as parallel:\n",
    "    jobs=[]\n",
    "    for i in range(8000):\n",
    "        jobs.append(delayed(f2cytest)(1., a=-1.,b=1., n=4))\n",
    "\n",
    "    #results= parallel(jobs)\n",
    "end = time.time()\n",
    "print(end - start)"
   ]
  },
  {
   "cell_type": "code",
   "execution_count": null,
   "metadata": {},
   "outputs": [],
   "source": [
    "print(results)"
   ]
  },
  {
   "cell_type": "code",
   "execution_count": null,
   "metadata": {},
   "outputs": [],
   "source": []
  }
 ],
 "metadata": {
  "kernelspec": {
   "display_name": "Python 3",
   "language": "python",
   "name": "python3"
  },
  "language_info": {
   "codemirror_mode": {
    "name": "ipython",
    "version": 3
   },
   "file_extension": ".py",
   "mimetype": "text/x-python",
   "name": "python",
   "nbconvert_exporter": "python",
   "pygments_lexer": "ipython3",
   "version": "3.7.3"
  }
 },
 "nbformat": 4,
 "nbformat_minor": 2
}
