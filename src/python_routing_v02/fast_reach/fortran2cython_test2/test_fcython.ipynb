{
 "cells": [
  {
   "cell_type": "code",
   "execution_count": 1,
   "metadata": {},
   "outputs": [
    {
     "name": "stdout",
     "output_type": "stream",
     "text": [
      "[ 0.          0.06859414  0.28550784  0.97144922  3.14058629 10.        ]\n"
     ]
    }
   ],
   "source": [
    "from fcython import mesh_exp\n",
    "print(mesh_exp(0.0, 10.0, 100.0, 5))"
   ]
  },
  {
   "cell_type": "code",
   "execution_count": 8,
   "metadata": {},
   "outputs": [
    {
     "name": "stdout",
     "output_type": "stream",
     "text": [
      "0.030480384826660156\n"
     ]
    }
   ],
   "source": [
    "import time\n",
    "\n",
    "start = time.time()\n",
    "for i in range(8000):\n",
    "    mesh_exp(0.0, 10.0, 100.0, 5)\n",
    "    \n",
    "end = time.time()\n",
    "print(end - start)"
   ]
  },
  {
   "cell_type": "code",
   "execution_count": 11,
   "metadata": {},
   "outputs": [
    {
     "name": "stdout",
     "output_type": "stream",
     "text": [
      "0.030481815338134766\n"
     ]
    }
   ],
   "source": [
    "import time\n",
    "from joblib import delayed, Parallel\n",
    "cpu_pool=10\n",
    "start = time.time()\n",
    "with Parallel(n_jobs=cpu_pool, prefer='threads') as parallel:\n",
    "    jobs=[]\n",
    "    for i in range(8000):\n",
    "        jobs.append(delayed(mesh_exp)(0.0, 10.0, 100.0, 5))\n",
    "\n",
    "    #results= parallel(jobs)\n",
    "end = time.time()\n",
    "print(end - start)"
   ]
  },
  {
   "cell_type": "code",
   "execution_count": null,
   "metadata": {},
   "outputs": [],
   "source": []
  }
 ],
 "metadata": {
  "kernelspec": {
   "display_name": "Python 3",
   "language": "python",
   "name": "python3"
  },
  "language_info": {
   "codemirror_mode": {
    "name": "ipython",
    "version": 3
   },
   "file_extension": ".py",
   "mimetype": "text/x-python",
   "name": "python",
   "nbconvert_exporter": "python",
   "pygments_lexer": "ipython3",
   "version": "3.7.3"
  }
 },
 "nbformat": 4,
 "nbformat_minor": 2
}
